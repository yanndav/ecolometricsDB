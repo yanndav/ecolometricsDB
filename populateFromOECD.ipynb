{
 "metadata": {
  "language_info": {
   "codemirror_mode": {
    "name": "ipython",
    "version": 3
   },
   "file_extension": ".py",
   "mimetype": "text/x-python",
   "name": "python",
   "nbconvert_exporter": "python",
   "pygments_lexer": "ipython3",
   "version": "3.9.2"
  },
  "orig_nbformat": 2,
  "kernelspec": {
   "name": "dbenv",
   "display_name": "dbenv",
   "language": "python"
  }
 },
 "nbformat": 4,
 "nbformat_minor": 2,
 "cells": [
  {
   "source": [
    "# OECD into Collection\n",
    "_This script populate the collection with OECD categories_\n",
    "\n",
    "Yann . 25.05"
   ],
   "cell_type": "markdown",
   "metadata": {}
  },
  {
   "source": [
    "## 1. Importing libaries"
   ],
   "cell_type": "markdown",
   "metadata": {}
  },
  {
   "cell_type": "code",
   "execution_count": 1,
   "metadata": {},
   "outputs": [],
   "source": [
    "# Libraries import\n",
    "from functions.functionsOECD import oecdGetDimensions\n",
    "from os import environ\n",
    "from dotenv import load_dotenv\n",
    "from pymongo import MongoClient\n",
    "from datetime import datetime"
   ]
  },
  {
   "source": [
    "## 2. Connection to the collection"
   ],
   "cell_type": "markdown",
   "metadata": {}
  },
  {
   "source": [
    "mongo_uri = environ.get(\"URI\") # Retrieving connection info\n",
    "db = MongoClient(mongo_uri).hub # Connecting to the hub\n",
    "collection = db[\"structure\"] # Connecting to the \"structure\" collection"
   ],
   "cell_type": "code",
   "metadata": {},
   "execution_count": 4,
   "outputs": []
  },
  {
   "source": [
    "## 3. Updating collection"
   ],
   "cell_type": "markdown",
   "metadata": {}
  },
  {
   "cell_type": "code",
   "execution_count": 5,
   "metadata": {},
   "outputs": [],
   "source": [
    "datasetsOECD = ['FOREST']\n",
    "\n",
    "for dataset in datasetsOECD:\n",
    "    dimensions = oecdGetDimensions(dataset)\n",
    "    for dim in dimensions:\n",
    "        country = dim['location']['name']\n",
    "        variable = dim['variable']['name']\n",
    "        collection.find_one_and_update({\n",
    "            'location.name':country,\n",
    "            'variable.name':variable},\n",
    "            {'$set':dim},\n",
    "            upsert=True)"
   ]
  }
 ]
}