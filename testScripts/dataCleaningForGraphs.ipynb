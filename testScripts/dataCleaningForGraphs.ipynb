{
 "metadata": {
  "language_info": {
   "codemirror_mode": {
    "name": "ipython",
    "version": 3
   },
   "file_extension": ".py",
   "mimetype": "text/x-python",
   "name": "python",
   "nbconvert_exporter": "python",
   "pygments_lexer": "ipython3",
   "version": "3.9.2"
  },
  "orig_nbformat": 2,
  "kernelspec": {
   "name": "python392jvsc74a57bd0a81708ecb53e9505c16e561773cae606f5b9df8d256990c488db9ecdf67a994f",
   "display_name": "Python 3.9.2 64-bit"
  }
 },
 "nbformat": 4,
 "nbformat_minor": 2,
 "cells": [
  {
   "source": [
    "# Hey mate!\n",
    "Yann . 16.05.2021\n",
    "\n",
    "In this script I just create a training dataset for graphs creation!\n"
   ],
   "cell_type": "markdown",
   "metadata": {}
  },
  {
   "cell_type": "code",
   "execution_count": 2,
   "metadata": {},
   "outputs": [],
   "source": [
    "# Libraries import\n",
    "import os\n",
    "import re\n",
    "import requests\n",
    "import json \n",
    "# Initialisation path\n",
    "dirPath = re.sub('testScripts','testData',os.getcwd())\n"
   ]
  },
  {
   "source": [
    "## Document structure prototype"
   ],
   "cell_type": "markdown",
   "metadata": {}
  },
  {
   "source": [
    "# First attempt data structure\n",
    "base = {'structure':\n",
    "    {\"indicator\":[], # Position serves as id to fin dataset\n",
    "     \"location\":[], # Position serves as id to find dataset -> level 1 national, level 2 intranational \n",
    "     \"date\":[]}, # Position serves as id to find value in dataset\n",
    "'dataSet':{}, # dictionnary with search query as id -> ex '1:1:1' ->  variable : country : scale\n",
    "'metaData':{ # Metadata serves for the user interface\n",
    "    'relation':{\n",
    "        'category':{}, #{'category A':['0','3','78']} # Ids of variables\n",
    "        'geoHierarchy':{}#{'0': {'national': '0','regional':{'1':['2','3'],'4':['5','6']}}}\n",
    "    },\n",
    "    'description':{} # dictionnary with search query as id -> ex '1:1:1'\n",
    "}\n",
    "}\n"
   ],
   "cell_type": "code",
   "metadata": {},
   "execution_count": 3,
   "outputs": []
  },
  {
   "source": [
    "## Data retrieval on the OECD API"
   ],
   "cell_type": "markdown",
   "metadata": {}
  },
  {
   "cell_type": "code",
   "execution_count": 4,
   "metadata": {},
   "outputs": [],
   "source": [
    "response = requests.get(\"https://stats.oecd.org/SDMX-JSON/data/EP_IND\")\n",
    "data = response.json()"
   ]
  },
  {
   "source": [
    "Copying data to our database"
   ],
   "cell_type": "markdown",
   "metadata": {}
  },
  {
   "cell_type": "code",
   "execution_count": 5,
   "metadata": {},
   "outputs": [],
   "source": [
    "# Adding the variable to the variables list / because not existing\n",
    "base[\"structure\"][\"indicator\"].append({'id': 'CO2_GDP', 'name': 'CO2 emissions per unit of GDP, tonnes/1 000 USD 2010 PPP', 'source':'OECD', 'date':'05-2021'})\n",
    "# Adding the country to the country list / because not existing \n",
    "base[\"structure\"][\"location\"].append([{'id': 'ARG', 'name': 'Argentina'}])\n",
    "# Adding years' id to the dataset / because not existing\n",
    "base[\"structure\"][\"date\"]=data['structure']['dimensions']['observation'][0]['values']\n",
    "\n",
    "# Adding the values to the dataset for Argentina\n",
    "base['dataSet']['0:0:0'] = data['dataSets'][0]['series']['50:5'][\"observations\"]\n",
    "\n",
    "\n",
    "# Adding Brazil to database\n",
    "base[\"structure\"][\"location\"].append([data['structure']['dimensions'][\"series\"][0]['values'][30]])\n",
    "\n",
    "# Adding Brazil's values\n",
    "base['dataSet']['0:1:0'] = data['dataSets'][0]['series']['30:5'][\"observations\"]\n"
   ]
  },
  {
   "cell_type": "code",
   "execution_count": 6,
   "metadata": {},
   "outputs": [],
   "source": [
    "base[\"metaData\"][\"relation\"][\"category\"][\"Climate Change\"] = [\"0\"] # Appending value of CO2 emission\n",
    "base[\"metaData\"][\"relation\"][\"geoHierarchy\"]['0'] = {'national': '0'} # Adding 0 as national item for argentina\n",
    "base[\"metaData\"][\"relation\"][\"geoHierarchy\"]['1'] = {'national': '0'} # Adding 0 as national item for brazil"
   ]
  },
  {
   "source": [
    "## Testing corner"
   ],
   "cell_type": "markdown",
   "metadata": {}
  },
  {
   "cell_type": "code",
   "execution_count": 6,
   "metadata": {},
   "outputs": [
    {
     "output_type": "stream",
     "name": "stdout",
     "text": [
      "{'id': 'BRA', 'name': 'Brazil'} {'id': 'CO2_GDP', 'name': 'CO2 emissions per unit of GDP, tonnes/1 000 USD 2010 PPP'}\n"
     ]
    }
   ],
   "source": [
    "print(data['structure']['dimensions'][\"series\"][0]['values'][30], data['structure']['dimensions'][\"series\"][1]['values'][5])"
   ]
  },
  {
   "cell_type": "code",
   "execution_count": 221,
   "metadata": {},
   "outputs": [],
   "source": [
    "items = [item for item in data['dataSets'][0]['series']]"
   ]
  },
  {
   "cell_type": "code",
   "execution_count": 223,
   "metadata": {},
   "outputs": [
    {
     "output_type": "execute_result",
     "data": {
      "text/plain": [
       "'47:66'"
      ]
     },
     "metadata": {},
     "execution_count": 223
    }
   ],
   "source": [
    "items[-2]"
   ]
  },
  {
   "source": [
    "## Exporting data"
   ],
   "cell_type": "markdown",
   "metadata": {}
  },
  {
   "cell_type": "code",
   "execution_count": 7,
   "metadata": {},
   "outputs": [],
   "source": [
    "with open(os.path.join(dirPath,\"database.json\"),'w') as out:\n",
    "    json.dump(base, out)"
   ]
  },
  {
   "cell_type": "code",
   "execution_count": 8,
   "metadata": {},
   "outputs": [
    {
     "output_type": "stream",
     "name": "stdout",
     "text": [
      "{'structure': {'variable': [{'id': 'CO2_GDP', 'name': 'CO2 emissions per unit of GDP, tonnes/1 000 USD 2010 PPP', 'source': 'OECD', 'date': '05-2021'}], 'location': [[{'id': 'ARG', 'name': 'Argentina'}], [{'id': 'BRA', 'name': 'Brazil'}]], 'date': [{'id': '1990', 'name': '1990'}, {'id': '1991', 'name': '1991'}, {'id': '1992', 'name': '1992'}, {'id': '1993', 'name': '1993'}, {'id': '1994', 'name': '1994'}, {'id': '1995', 'name': '1995'}, {'id': '1996', 'name': '1996'}, {'id': '1997', 'name': '1997'}, {'id': '1998', 'name': '1998'}, {'id': '1999', 'name': '1999'}, {'id': '2000', 'name': '2000'}, {'id': '2001', 'name': '2001'}, {'id': '2002', 'name': '2002'}, {'id': '2003', 'name': '2003'}, {'id': '2004', 'name': '2004'}, {'id': '2005', 'name': '2005'}, {'id': '2006', 'name': '2006'}, {'id': '2007', 'name': '2007'}, {'id': '2008', 'name': '2008'}, {'id': '2009', 'name': '2009'}, {'id': '2010', 'name': '2010'}, {'id': '2011', 'name': '2011'}, {'id': '2012', 'name': '2012'}, {'id': '2013', 'name': '2013'}, {'id': '2014', 'name': '2014'}, {'id': '2015', 'name': '2015'}, {'id': '2016', 'name': '2016'}, {'id': '2017', 'name': '2017'}, {'id': '2018', 'name': '2018'}, {'id': '2019', 'name': '2019'}, {'id': '1980', 'name': '1980'}, {'id': '1981', 'name': '1981'}, {'id': '1982', 'name': '1982'}, {'id': '1983', 'name': '1983'}, {'id': '1984', 'name': '1984'}, {'id': '1985', 'name': '1985'}, {'id': '1986', 'name': '1986'}, {'id': '1987', 'name': '1987'}, {'id': '1988', 'name': '1988'}, {'id': '1989', 'name': '1989'}]}, 'dataSet': {'0:0:0': {'30': [None, 0], '31': [None, 0], '32': [None, 0], '33': [None, 0], '34': [None, 0], '35': [None, 0], '36': [None, 0], '37': [None, 0], '38': [None, 0], '39': [None, 0], '0': [0.238, 0], '1': [0.257, 0], '2': [0.241, 0], '3': [0.225, 0], '4': [0.223, 0], '5': [0.216, 0], '6': [0.237, 0], '7': [0.235, 0], '8': [0.226, 0], '9': [0.224, 0], '10': [0.232, 0], '11': [0.216, 0], '12': [0.214, 0], '13': [0.26, 0], '14': [0.268, None], '15': [0.251, None], '16': [0.247, None], '17': [0.236, None], '18': [0.242, None], '19': [0.246, None], '20': [0.23, None], '21': [0.226, None], '22': [0.234, None], '23': [0.223, None], '24': [0.233, None], '25': [0.234, None], '26': [0.239, None], '27': [0.223, None], '28': [None, 0]}, '0:1:0': {'30': [None, 0], '31': [None, 0], '32': [None, 0], '33': [None, 0], '34': [None, 0], '35': [None, 0], '36': [None, 0], '37': [None, 0], '38': [None, 0], '39': [None, 0], '0': [0.115, 0], '1': [0.123, 0], '2': [0.124, 0], '3': [0.129, 0], '4': [0.128, 0], '5': [0.132, 0], '6': [0.138, 0], '7': [0.142, 0], '8': [0.146, 0], '9': [0.15, 0], '10': [0.15, None], '11': [0.151, None], '12': [0.147, None], '13': [0.142, None], '14': [0.142, None], '15': [0.138, None], '16': [0.135, None], '17': [0.133, None], '18': [0.134, None], '19': [0.125, None], '20': [0.133, None], '21': [0.134, None], '22': [0.143, None], '23': [0.148, None], '24': [0.155, None], '25': [0.153, None], '26': [0.146, None], '27': [0.148, 0], '28': [None, 0]}}, 'metaData': {'relation': {'category': {'Climate Change': ['0']}, 'geoHierarchy': {'0': {'national': '0'}, '1': {'national': '0'}}}, 'description': {}}}\n"
     ]
    }
   ],
   "source": [
    "with open(os.path.join(dirPath,\"database.json\"),'r') as out:\n",
    "    print(json.load(out))"
   ]
  }
 ]
}