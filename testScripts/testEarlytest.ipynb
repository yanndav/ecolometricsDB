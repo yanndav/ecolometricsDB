{
 "metadata": {
  "language_info": {
   "codemirror_mode": {
    "name": "ipython",
    "version": 3
   },
   "file_extension": ".py",
   "mimetype": "text/x-python",
   "name": "python",
   "nbconvert_exporter": "python",
   "pygments_lexer": "ipython3",
   "version": "3.9.2"
  },
  "orig_nbformat": 2,
  "kernelspec": {
   "name": "python392jvsc74a57bd0a81708ecb53e9505c16e561773cae606f5b9df8d256990c488db9ecdf67a994f",
   "display_name": "Python 3.9.2 64-bit"
  }
 },
 "nbformat": 4,
 "nbformat_minor": 2,
 "cells": [
  {
   "cell_type": "code",
   "execution_count": 17,
   "metadata": {
    "tags": []
   },
   "outputs": [
    {
     "output_type": "stream",
     "name": "stdout",
     "text": [
      "Returns message:\n{\n  \"status\": \"Email format not valid\"\n}\n\n"
     ]
    }
   ],
   "source": [
    "import requests\n",
    "import json\n",
    "\n",
    "# defining the api-endpoint \n",
    "API_ENDPOINT = \"http://127.0.0.1:5000/earlyAccess\"\n",
    "  \n",
    "# data to be sent to api\n",
    "data = {'email':'gaeldavid44gmail.com'}\n",
    "  \n",
    "# sending post request and saving response as response object\n",
    "r = requests.post(url = API_ENDPOINT, json = data)\n",
    "  \n",
    "# extracting response text \n",
    "pastebin_url = r.text\n",
    "print(\"Returns message:\\n%s\"%pastebin_url)"
   ]
  }
 ]
}