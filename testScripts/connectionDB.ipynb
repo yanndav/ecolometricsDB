{
 "metadata": {
  "language_info": {
   "codemirror_mode": {
    "name": "ipython",
    "version": 3
   },
   "file_extension": ".py",
   "mimetype": "text/x-python",
   "name": "python",
   "nbconvert_exporter": "python",
   "pygments_lexer": "ipython3",
   "version": "3.9.2"
  },
  "orig_nbformat": 2,
  "kernelspec": {
   "name": "dbenv",
   "display_name": "dbenv",
   "language": "python"
  }
 },
 "nbformat": 4,
 "nbformat_minor": 2,
 "cells": [
  {
   "source": [
    "# Hey mate, here is a script to connect the DB!\n",
    "Yann . 19.05\n"
   ],
   "cell_type": "markdown",
   "metadata": {}
  },
  {
   "cell_type": "code",
   "execution_count": 1,
   "metadata": {},
   "outputs": [],
   "source": [
    "# Importing libraries\n",
    "from os import environ\n",
    "from dotenv import load_dotenv\n",
    "from pymongo import MongoClient\n",
    "\n",
    "\n",
    "mongo_uri = environ.get(\"URI\")\n",
    "db = MongoClient(mongo_uri).hub"
   ]
  },
  {
   "cell_type": "code",
   "execution_count": 10,
   "metadata": {},
   "outputs": [
    {
     "output_type": "execute_result",
     "data": {
      "text/plain": [
       "'hub'"
      ]
     },
     "metadata": {},
     "execution_count": 10
    }
   ],
   "source": [
    "db.name"
   ]
  },
  {
   "cell_type": "code",
   "execution_count": 3,
   "metadata": {},
   "outputs": [],
   "source": [
    "test = db[\"test\"]"
   ]
  },
  {
   "cell_type": "code",
   "execution_count": 11,
   "metadata": {},
   "outputs": [
    {
     "output_type": "execute_result",
     "data": {
      "text/plain": [
       "<pymongo.results.InsertOneResult at 0x141ff4856c0>"
      ]
     },
     "metadata": {},
     "execution_count": 11
    }
   ],
   "source": [
    "test.insert_one(post)"
   ]
  },
  {
   "cell_type": "code",
   "execution_count": 13,
   "metadata": {},
   "outputs": [
    {
     "output_type": "execute_result",
     "data": {
      "text/plain": [
       "{'_id': ObjectId('60a5202c25a489e45b762ea8'),\n",
       " 'test': 'Ceci est un test',\n",
       " 'données': [201, 20283, 3829]}"
      ]
     },
     "metadata": {},
     "execution_count": 13
    }
   ],
   "source": [
    "test.find()[0]"
   ]
  },
  {
   "cell_type": "code",
   "execution_count": 20,
   "metadata": {},
   "outputs": [],
   "source": [
    "country1 = {\n",
    "    'variable':'CO2 emissions per unit of GDP',\n",
    "    'location':'Argentina',\n",
    "    'values':{'2020':3894,\n",
    "    '2019':3894,\n",
    "    '2018':343,\n",
    "    '2017':443,\n",
    "    '2016':434}}"
   ]
  },
  {
   "cell_type": "code",
   "execution_count": 21,
   "metadata": {},
   "outputs": [
    {
     "output_type": "execute_result",
     "data": {
      "text/plain": [
       "<pymongo.results.InsertOneResult at 0x141ff4a1080>"
      ]
     },
     "metadata": {},
     "execution_count": 21
    }
   ],
   "source": [
    "test.insert_one(country1)"
   ]
  },
  {
   "cell_type": "code",
   "execution_count": 19,
   "metadata": {},
   "outputs": [
    {
     "output_type": "execute_result",
     "data": {
      "text/plain": [
       "<pymongo.results.InsertOneResult at 0x141ff1a1bc0>"
      ]
     },
     "metadata": {},
     "execution_count": 19
    }
   ],
   "source": [
    "country2 = {\n",
    "    'variable':'CO2 emissions per unit of GDP',\n",
    "    'location':'Brazil',\n",
    "    'values':{'2020':384,\n",
    "    '2019':494,\n",
    "    '2018':393,\n",
    "    '2017':343,\n",
    "    '2016':144}}\n",
    "\n",
    "test.insert_one(country2)"
   ]
  }
 ]
}