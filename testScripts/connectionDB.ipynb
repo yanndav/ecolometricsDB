{
 "metadata": {
  "language_info": {
   "codemirror_mode": {
    "name": "ipython",
    "version": 3
   },
   "file_extension": ".py",
   "mimetype": "text/x-python",
   "name": "python",
   "nbconvert_exporter": "python",
   "pygments_lexer": "ipython3",
   "version": "3.9.2"
  },
  "orig_nbformat": 2,
  "kernelspec": {
   "name": "dbenv",
   "display_name": "dbenv",
   "language": "python"
  }
 },
 "nbformat": 4,
 "nbformat_minor": 2,
 "cells": [
  {
   "source": [
    "# Hey mate, here is a script to connect the DB!\n",
    "Yann . 19.05\n"
   ],
   "cell_type": "markdown",
   "metadata": {}
  },
  {
   "cell_type": "code",
   "execution_count": 1,
   "metadata": {},
   "outputs": [],
   "source": [
    "# Importing libraries\n",
    "from os import environ\n",
    "from dotenv import load_dotenv\n",
    "from pymongo import MongoClient\n",
    "from datetime import datetime\n",
    "\n",
    "mongo_uri = environ.get(\"URI\")\n",
    "db = MongoClient(mongo_uri).hub"
   ]
  },
  {
   "cell_type": "code",
   "execution_count": 2,
   "metadata": {},
   "outputs": [
    {
     "output_type": "execute_result",
     "data": {
      "text/plain": [
       "'hub'"
      ]
     },
     "metadata": {},
     "execution_count": 2
    }
   ],
   "source": [
    "db.name"
   ]
  },
  {
   "cell_type": "code",
   "execution_count": 3,
   "metadata": {},
   "outputs": [],
   "source": [
    "test = db[\"early_access\"]"
   ]
  },
  {
   "cell_type": "code",
   "execution_count": 42,
   "metadata": {},
   "outputs": [
    {
     "output_type": "stream",
     "name": "stderr",
     "text": [
      "<ipython-input-42-8ff4d2505e25>:1: DeprecationWarning: collection_names is deprecated. Use list_collection_names instead.\n  db.collection_names()\n"
     ]
    },
    {
     "output_type": "execute_result",
     "data": {
      "text/plain": [
       "['test', 'early_access']"
      ]
     },
     "metadata": {},
     "execution_count": 42
    }
   ],
   "source": [
    "db.collection_names()"
   ]
  },
  {
   "cell_type": "code",
   "execution_count": 19,
   "metadata": {},
   "outputs": [],
   "source": [
    "post = {\n",
    "    'email':'yann1997@gmail.com',\n",
    "    'date':datetime.now()\n",
    "}"
   ]
  },
  {
   "cell_type": "code",
   "execution_count": 58,
   "metadata": {},
   "outputs": [
    {
     "output_type": "stream",
     "name": "stdout",
     "text": [
      "{'_id': ObjectId('60a652b9de566f5c5e05925c'), 'email': 'yann.collindavid@gmail.com', 'date': datetime.datetime(2021, 5, 20, 14, 14, 49, 457000)}\n{'_id': ObjectId('60a65427862e882c089d3a3c'), 'email': 'justepouryt@gmail.com', 'date': datetime.datetime(2021, 5, 20, 14, 20, 55, 365000)}\n{'_id': ObjectId('60a65493e88d4ad25eb08f5d'), 'email': 'ecolometricsapp@gmail.com', 'date': datetime.datetime(2021, 5, 20, 14, 22, 42, 760000)}\n{'_id': ObjectId('60a66165ca5bb938c1f4f7f6'), 'email': 'yann1997@gmail.com', 'date': datetime.datetime(2021, 5, 20, 15, 17, 25, 627000)}\n{'_id': ObjectId('60a66d49b541144717aba130'), 'email': 'gaeldavid44@gmail.com', 'date': datetime.datetime(2021, 5, 20, 14, 8, 8, 376000)}\n{'_id': ObjectId('60a66d65b541144717aba131'), 'email': 'gdavid2@audencia.com', 'date': datetime.datetime(2021, 5, 20, 14, 8, 37, 878000)}\n"
     ]
    }
   ],
   "source": [
    "for found in test.find():\n",
    "    print(found)"
   ]
  },
  {
   "cell_type": "code",
   "execution_count": 39,
   "metadata": {},
   "outputs": [],
   "source": [
    "exists = test.find({'email':'yann1997@gmail.com'})"
   ]
  },
  {
   "cell_type": "code",
   "execution_count": 40,
   "metadata": {},
   "outputs": [
    {
     "output_type": "stream",
     "name": "stdout",
     "text": [
      "Yes\n"
     ]
    }
   ],
   "source": [
    "if exists:\n",
    "    print('Yes')\n",
    "else:\n",
    "    print('No')"
   ]
  },
  {
   "cell_type": "code",
   "execution_count": 41,
   "metadata": {},
   "outputs": [
    {
     "output_type": "execute_result",
     "data": {
      "text/plain": [
       "<pymongo.cursor.Cursor at 0x135ed9cda60>"
      ]
     },
     "metadata": {},
     "execution_count": 41
    }
   ],
   "source": [
    "exists"
   ]
  },
  {
   "cell_type": "code",
   "execution_count": 20,
   "metadata": {},
   "outputs": [],
   "source": [
    "country1 = {\n",
    "    'variable':'CO2 emissions per unit of GDP',\n",
    "    'location':'Argentina',\n",
    "    'values':{'2020':3894,\n",
    "    '2019':3894,\n",
    "    '2018':343,\n",
    "    '2017':443,\n",
    "    '2016':434}}"
   ]
  },
  {
   "cell_type": "code",
   "execution_count": 21,
   "metadata": {},
   "outputs": [
    {
     "output_type": "execute_result",
     "data": {
      "text/plain": [
       "<pymongo.results.InsertOneResult at 0x141ff4a1080>"
      ]
     },
     "metadata": {},
     "execution_count": 21
    }
   ],
   "source": [
    "test.insert_one(country1)"
   ]
  },
  {
   "cell_type": "code",
   "execution_count": 19,
   "metadata": {},
   "outputs": [
    {
     "output_type": "execute_result",
     "data": {
      "text/plain": [
       "<pymongo.results.InsertOneResult at 0x141ff1a1bc0>"
      ]
     },
     "metadata": {},
     "execution_count": 19
    }
   ],
   "source": [
    "country2 = {\n",
    "    'variable':'CO2 emissions per unit of GDP',\n",
    "    'location':'Brazil',\n",
    "    'values':{'2020':384,\n",
    "    '2019':494,\n",
    "    '2018':393,\n",
    "    '2017':343,\n",
    "    '2016':144}}\n",
    "\n",
    "test.insert_one(country2)"
   ]
  }
 ]
}